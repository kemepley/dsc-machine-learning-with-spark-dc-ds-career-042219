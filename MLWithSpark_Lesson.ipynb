{
 "cells": [
  {
   "cell_type": "markdown",
   "metadata": {},
   "source": [
    "# Machine Learning with Spark\n",
    "\n",
    "## Introduction\n",
    "\n",
    "You've now explored how to perform operations on Spark RDDs for simple Map-Reduce tasks. Luckily, there are far more advanced use cases for spark, and many of them are found in the ml library, which we are going to explore in this lesson.\n",
    "\n",
    "\n",
    "## Objectives\n",
    "* Describe the use case for Machine Learning with Spark\n",
    "* Load and manipulate data with Spark DataFrames\n",
    "* Train a machine learning model with Spark\n",
    "\n",
    "\n",
    "## A Tale of Two Libraries\n",
    "\n",
    "If you look at the pyspark documentation, you'll notice that there are two different libraries for machine learning, [mllib](https://spark.apache.org/docs/latest/api/python/pyspark.mllib.html) and [ml](https://spark.apache.org/docs/latest/api/python/pyspark.ml.html). These libraries are extremely similar to one another, the only difference being that the mllib library is built upon the RDDs you just practiced using; whereas, the ml library is built on higher level Spark DataFrames, which has methods and attributes similar to pandas. Spark has stated that in the future, it is going to devote more effort to the `ml` library and that `mllib` will become deprecated. It's important to note that these libraries are much younger than pandas and sci-kit learn and there are not as many features present in either.\n",
    "\n",
    "## Spark DataFrames\n",
    "\n",
    "In the previous lessons, you've been introduced to SparkContext as the primary way to connect with a Spark Application. Here, we will be using SparkSession, which is from the [sql](https://spark.apache.org/docs/latest/api/python/pyspark.sql.html) component of pyspark. The SparkSession acts the same way as SparkContext; it a bridge between python and the Spark Application. It's just built on top of the Spark SQL API, a higher-level API than RDDs. In fact, a SparkContext object is spun up around which the SparkSession object is wrapped. Let's go through the process of manipulating some data here. For this example, we're going to be using the [Forest Fire dataset](https://archive.ics.uci.edu/ml/datasets/Forest+Fires) from UCI, which contains data about the area burned by wildfires in the Northeast region of Portugal in relation to numerous other factors.\n",
    "\n",
    "To begin with, let's create a SparkSession so that we can spin up our spark application.\n"
   ]
  },
  {
   "cell_type": "code",
   "execution_count": 5,
   "metadata": {},
   "outputs": [],
   "source": [
    "import pyspark"
   ]
  },
  {
   "cell_type": "code",
   "execution_count": 6,
   "metadata": {},
   "outputs": [],
   "source": [
    "# importing the necessary libraries\n",
    "from pyspark import SparkContext\n",
    "from pyspark.sql import SparkSession\n",
    "conf = pyspark.SparkConf().set('spark.driver.host','127.0.0.1')\n",
    "sc = SparkContext('local[*]', conf=conf)\n",
    "spark = SparkSession(sc)"
   ]
  },
  {
   "cell_type": "markdown",
   "metadata": {},
   "source": [
    "An alternate, one liner way to create a SparkSession is below"
   ]
  },
  {
   "cell_type": "code",
   "execution_count": 3,
   "metadata": {},
   "outputs": [],
   "source": [
    "# spark = SparkSession.builder.master(\"local\").getOrCreate()"
   ]
  },
  {
   "cell_type": "markdown",
   "metadata": {},
   "source": [
    "Now, we'll load the read in our data into the pyspark DataFrame object."
   ]
  },
  {
   "cell_type": "code",
   "execution_count": 7,
   "metadata": {},
   "outputs": [
    {
     "data": {
      "text/plain": [
       "pyspark.sql.dataframe.DataFrame"
      ]
     },
     "execution_count": 7,
     "metadata": {},
     "output_type": "execute_result"
    }
   ],
   "source": [
    "## reading in pyspark df\n",
    "spark_df = spark.read.csv('./forestfires.csv',header='true',inferSchema='true')\n",
    "\n",
    "## observing the datatype of df\n",
    "type(spark_df)"
   ]
  },
  {
   "cell_type": "markdown",
   "metadata": {},
   "source": [
    "You'll notice that some of the methods are extremely similar or the same as those found within Pandas."
   ]
  },
  {
   "cell_type": "code",
   "execution_count": 8,
   "metadata": {},
   "outputs": [
    {
     "data": {
      "text/plain": [
       "Row(X=7, Y=5, month='mar', day='fri', FFMC=86.2, DMC=26.2, DC=94.3, ISI=5.1, temp=8.2, RH=51, wind=6.7, rain=0.0, area=0.0)"
      ]
     },
     "execution_count": 8,
     "metadata": {},
     "output_type": "execute_result"
    }
   ],
   "source": [
    "spark_df.head()"
   ]
  },
  {
   "cell_type": "code",
   "execution_count": 9,
   "metadata": {},
   "outputs": [
    {
     "data": {
      "text/plain": [
       "['X',\n",
       " 'Y',\n",
       " 'month',\n",
       " 'day',\n",
       " 'FFMC',\n",
       " 'DMC',\n",
       " 'DC',\n",
       " 'ISI',\n",
       " 'temp',\n",
       " 'RH',\n",
       " 'wind',\n",
       " 'rain',\n",
       " 'area']"
      ]
     },
     "execution_count": 9,
     "metadata": {},
     "output_type": "execute_result"
    }
   ],
   "source": [
    "spark_df.columns"
   ]
  },
  {
   "cell_type": "markdown",
   "metadata": {},
   "source": [
    "Selecting multiple columns is the same"
   ]
  },
  {
   "cell_type": "code",
   "execution_count": 10,
   "metadata": {},
   "outputs": [
    {
     "data": {
      "text/plain": [
       "DataFrame[month: string, day: string, rain: double]"
      ]
     },
     "execution_count": 10,
     "metadata": {},
     "output_type": "execute_result"
    }
   ],
   "source": [
    "spark_df[['month','day','rain']]"
   ]
  },
  {
   "cell_type": "markdown",
   "metadata": {},
   "source": [
    "But selecting one column is different. If you want to maintain the methods of a spark DataFrame, you should use the `select` method. If you want to just select the column, you can use the same method you would use in pandas (this is primarily what you would use if you're attempting to create a Boolean mask).\n"
   ]
  },
  {
   "cell_type": "code",
   "execution_count": 11,
   "metadata": {
    "scrolled": true
   },
   "outputs": [],
   "source": [
    "d = spark_df.select('rain')"
   ]
  },
  {
   "cell_type": "code",
   "execution_count": 12,
   "metadata": {},
   "outputs": [
    {
     "data": {
      "text/plain": [
       "Column<b'rain'>"
      ]
     },
     "execution_count": 12,
     "metadata": {},
     "output_type": "execute_result"
    }
   ],
   "source": [
    "spark_df['rain']"
   ]
  },
  {
   "cell_type": "markdown",
   "metadata": {},
   "source": [
    "Let's take a look at all of our data types in this dataframe"
   ]
  },
  {
   "cell_type": "code",
   "execution_count": 13,
   "metadata": {},
   "outputs": [
    {
     "data": {
      "text/plain": [
       "[('X', 'int'),\n",
       " ('Y', 'int'),\n",
       " ('month', 'string'),\n",
       " ('day', 'string'),\n",
       " ('FFMC', 'double'),\n",
       " ('DMC', 'double'),\n",
       " ('DC', 'double'),\n",
       " ('ISI', 'double'),\n",
       " ('temp', 'double'),\n",
       " ('RH', 'int'),\n",
       " ('wind', 'double'),\n",
       " ('rain', 'double'),\n",
       " ('area', 'double')]"
      ]
     },
     "execution_count": 13,
     "metadata": {},
     "output_type": "execute_result"
    }
   ],
   "source": [
    "spark_df.dtypes"
   ]
  },
  {
   "cell_type": "markdown",
   "metadata": {},
   "source": [
    "## Aggregations with our DataFrame"
   ]
  },
  {
   "cell_type": "markdown",
   "metadata": {},
   "source": [
    "Let's investigate to see if there is any correlation between what month it is and the area of fire."
   ]
  },
  {
   "cell_type": "code",
   "execution_count": 14,
   "metadata": {},
   "outputs": [
    {
     "data": {
      "text/plain": [
       "DataFrame[month: string, avg(area): double]"
      ]
     },
     "execution_count": 14,
     "metadata": {},
     "output_type": "execute_result"
    }
   ],
   "source": [
    "spark_df_months = spark_df.groupBy('month').agg({'area':'mean'})\n",
    "spark_df_months"
   ]
  },
  {
   "cell_type": "markdown",
   "metadata": {},
   "source": [
    "Notice how the grouped DataFrame is not returned when you call the aggregation method. Remember, this is still Spark! The transformations and actions are kept separate so that it is easier to manage large quantities of data. You can perform the transformation by making a `collect` method call."
   ]
  },
  {
   "cell_type": "code",
   "execution_count": 15,
   "metadata": {},
   "outputs": [
    {
     "data": {
      "text/plain": [
       "[Row(month='jun', avg(area)=5.841176470588234),\n",
       " Row(month='aug', avg(area)=12.489076086956521),\n",
       " Row(month='may', avg(area)=19.24),\n",
       " Row(month='feb', avg(area)=6.275),\n",
       " Row(month='sep', avg(area)=17.942616279069753),\n",
       " Row(month='mar', avg(area)=4.356666666666667),\n",
       " Row(month='oct', avg(area)=6.638),\n",
       " Row(month='jul', avg(area)=14.3696875),\n",
       " Row(month='nov', avg(area)=0.0),\n",
       " Row(month='apr', avg(area)=8.891111111111112),\n",
       " Row(month='dec', avg(area)=13.33),\n",
       " Row(month='jan', avg(area)=0.0)]"
      ]
     },
     "execution_count": 15,
     "metadata": {},
     "output_type": "execute_result"
    }
   ],
   "source": [
    "spark_df_months.collect()"
   ]
  },
  {
   "cell_type": "markdown",
   "metadata": {},
   "source": [
    "As you can see, there seem to be larger area fires during what would be considered the summer months in Portugal. On your own, practice more aggregations and manipulations that you might be able to perform on this dataset. Now, we'll move on to using the machine learning applications of pyspark. "
   ]
  },
  {
   "cell_type": "markdown",
   "metadata": {},
   "source": [
    "## Boolean Masking\n",
    "Boolean masking also works with pyspark DataFrames just like Pandas DataFrames, the only difference being that the `filter` method is used in pyspark. To try this out, let's compare the amount the fire in those areas with absolutely no rain to those areas that had rain."
   ]
  },
  {
   "cell_type": "code",
   "execution_count": 16,
   "metadata": {},
   "outputs": [],
   "source": [
    "no_rain = spark_df.filter(spark_df['rain'] == 0.0)\n",
    "some_rain = spark_df.filter(spark_df['rain'] > 0.0)"
   ]
  },
  {
   "cell_type": "code",
   "execution_count": 19,
   "metadata": {},
   "outputs": [],
   "source": [
    "# no_rain.collect()"
   ]
  },
  {
   "cell_type": "markdown",
   "metadata": {},
   "source": [
    "Now, to perform calculations to find the mean of a column, we'll have to import functions from `pyspark.sql`. As always, to read more about them, check out the [documentation](https://spark.apache.org/docs/latest/api/python/pyspark.sql.html#module-pyspark.sql.functions)."
   ]
  },
  {
   "cell_type": "code",
   "execution_count": 20,
   "metadata": {},
   "outputs": [
    {
     "name": "stdout",
     "output_type": "stream",
     "text": [
      "+------------------+\n",
      "|         avg(area)|\n",
      "+------------------+\n",
      "|13.023693516699408|\n",
      "+------------------+\n",
      "\n",
      "no rain fire area:  None \n",
      "\n",
      "+---------+\n",
      "|avg(area)|\n",
      "+---------+\n",
      "|  1.62375|\n",
      "+---------+\n",
      "\n",
      "some rain fire area:  None \n",
      "\n"
     ]
    }
   ],
   "source": [
    "from pyspark.sql.functions import mean\n",
    "\n",
    "print('no rain fire area: ',no_rain.select(mean('area')).show(),'\\n')\n",
    "\n",
    "print('some rain fire area: ',some_rain.select(mean('area')).show(),'\\n')"
   ]
  },
  {
   "cell_type": "markdown",
   "metadata": {},
   "source": [
    "Yes there's definitely something there! Unsurprisingly, rain plays in a big factor in the spread of wildfire.\n",
    "\n",
    "Let's try and get obtain data from only the summer months in Portugal (June, July, and August). We can also do the same for the winter months in Portugal (December, January, February)."
   ]
  },
  {
   "cell_type": "code",
   "execution_count": 21,
   "metadata": {},
   "outputs": [
    {
     "name": "stdout",
     "output_type": "stream",
     "text": [
      "+------------------+\n",
      "|         avg(area)|\n",
      "+------------------+\n",
      "|12.262317596566525|\n",
      "+------------------+\n",
      "\n",
      "summer months fire area None\n",
      "+-----------------+\n",
      "|        avg(area)|\n",
      "+-----------------+\n",
      "|7.918387096774193|\n",
      "+-----------------+\n",
      "\n",
      "winter months fire areas None\n"
     ]
    }
   ],
   "source": [
    "summer_months = spark_df.filter(spark_df['month'].isin(['jun','jul','aug']))\n",
    "winter_months = spark_df.filter(spark_df['month'].isin(['dec','jan','feb']))\n",
    "\n",
    "print('summer months fire area', summer_months.select(mean('area')).show())\n",
    "print('winter months fire areas', winter_months.select(mean('area')).show())"
   ]
  },
  {
   "cell_type": "markdown",
   "metadata": {},
   "source": [
    "## Machine Learning\n",
    "\n",
    "Now that we've performed some data manipulation and aggregation, lets get to the really cool stuff, machine learning! Pyspark states that they've used sklearn as an inspiration for their implementation of a machine learning library. As a result, many of the methods and functionalities look similar, but there are some crucial distinctions. There are three main concepts found within the ML library:\n",
    "\n",
    "`Transformer`: An algorithm that transforms one pyspark DataFrame into another DataFrame. \n",
    "\n",
    "`Estimator`: An algorithm that can be fit onto a pyspark DataFrame that can then be used as a Transformer. \n",
    "\n",
    "`Pipeline`: A pipeline very similar to an sklearn pipeline that chains together different actions.\n",
    "\n",
    "The reasoning behind this separation of the fitting and transforming step is because spark is lazily evaluated, so the 'fitting' of a model does not actually take place until the Transformation action is called. Let's examine what this actually looks like by performing a regression on the Forest Fire Dataset. To start off with, we'll import the necessary libraries for our tasks."
   ]
  },
  {
   "cell_type": "code",
   "execution_count": 22,
   "metadata": {},
   "outputs": [],
   "source": [
    "from pyspark.ml.regression import RandomForestRegressor\n",
    "from pyspark.ml import feature\n",
    "from pyspark.ml.feature import StringIndexer, VectorAssembler, OneHotEncoderEstimator"
   ]
  },
  {
   "cell_type": "markdown",
   "metadata": {},
   "source": [
    "Looking at our data, one can see that all the categories are numerical except for day and month. We saw some correlation between the month and area burned in a fire, so we will include that in our model. The day of the week, however, is highly unlikely to have any effect on fire, so we will drop it from the DataFrame."
   ]
  },
  {
   "cell_type": "code",
   "execution_count": 23,
   "metadata": {},
   "outputs": [
    {
     "data": {
      "text/plain": [
       "Row(X=7, Y=5, month='mar', FFMC=86.2, DMC=26.2, DC=94.3, ISI=5.1, temp=8.2, RH=51, wind=6.7, rain=0.0, area=0.0)"
      ]
     },
     "execution_count": 23,
     "metadata": {},
     "output_type": "execute_result"
    }
   ],
   "source": [
    "fire_df = spark_df.drop('day')\n",
    "fire_df.head()"
   ]
  },
  {
   "cell_type": "markdown",
   "metadata": {},
   "source": [
    "In order for us to run our model, we need to turn the months variable into a dummy variable. In `ml` this is a 2-step process that first requires turning the categorical variable into a numerical index (`StringIndexer`). Only after the variable is an int can pyspark create dummy variable columns related to each category (`OneHotEncoderEstimator`). You key parameters you when using these `ml` estimators are: inputCol (the column you want to change) and outputCol (where you will store the changed column). Here it is in action"
   ]
  },
  {
   "cell_type": "code",
   "execution_count": 24,
   "metadata": {},
   "outputs": [],
   "source": [
    "si = StringIndexer(inputCol='month',outputCol='month_num')\n",
    "model = si.fit(fire_df)\n",
    "new_df = model.transform(fire_df)"
   ]
  },
  {
   "cell_type": "markdown",
   "metadata": {},
   "source": [
    "Note the small, but critical distinction between sklearn's implementation of a transformer and pyspark's implementation. sklearn is more object oriented and spark is more functionally based programming."
   ]
  },
  {
   "cell_type": "code",
   "execution_count": 25,
   "metadata": {},
   "outputs": [
    {
     "data": {
      "text/plain": [
       "pyspark.ml.feature.StringIndexer"
      ]
     },
     "execution_count": 25,
     "metadata": {},
     "output_type": "execute_result"
    }
   ],
   "source": [
    "## this is an estimator (an untrained transformer)\n",
    "type(si)"
   ]
  },
  {
   "cell_type": "code",
   "execution_count": 26,
   "metadata": {},
   "outputs": [
    {
     "data": {
      "text/plain": [
       "pyspark.ml.feature.StringIndexerModel"
      ]
     },
     "execution_count": 26,
     "metadata": {},
     "output_type": "execute_result"
    }
   ],
   "source": [
    "## this is a transformer (a trained transformer)\n",
    "type(model)"
   ]
  },
  {
   "cell_type": "code",
   "execution_count": 27,
   "metadata": {},
   "outputs": [
    {
     "data": {
      "text/plain": [
       "['aug',\n",
       " 'sep',\n",
       " 'mar',\n",
       " 'jul',\n",
       " 'feb',\n",
       " 'jun',\n",
       " 'oct',\n",
       " 'apr',\n",
       " 'dec',\n",
       " 'jan',\n",
       " 'may',\n",
       " 'nov']"
      ]
     },
     "execution_count": 27,
     "metadata": {},
     "output_type": "execute_result"
    }
   ],
   "source": [
    "model.labels"
   ]
  },
  {
   "cell_type": "code",
   "execution_count": 28,
   "metadata": {},
   "outputs": [
    {
     "data": {
      "text/plain": [
       "[Row(X=7, Y=5, month='mar', FFMC=86.2, DMC=26.2, DC=94.3, ISI=5.1, temp=8.2, RH=51, wind=6.7, rain=0.0, area=0.0, month_num=2.0),\n",
       " Row(X=7, Y=4, month='oct', FFMC=90.6, DMC=35.4, DC=669.1, ISI=6.7, temp=18.0, RH=33, wind=0.9, rain=0.0, area=0.0, month_num=6.0),\n",
       " Row(X=7, Y=4, month='oct', FFMC=90.6, DMC=43.7, DC=686.9, ISI=6.7, temp=14.6, RH=33, wind=1.3, rain=0.0, area=0.0, month_num=6.0),\n",
       " Row(X=8, Y=6, month='mar', FFMC=91.7, DMC=33.3, DC=77.5, ISI=9.0, temp=8.3, RH=97, wind=4.0, rain=0.2, area=0.0, month_num=2.0)]"
      ]
     },
     "execution_count": 28,
     "metadata": {},
     "output_type": "execute_result"
    }
   ],
   "source": [
    "new_df.head(4)"
   ]
  },
  {
   "cell_type": "code",
   "execution_count": 29,
   "metadata": {},
   "outputs": [
    {
     "data": {
      "text/plain": [
       "Row(X=7, Y=5, month='mar', FFMC=86.2, DMC=26.2, DC=94.3, ISI=5.1, temp=8.2, RH=51, wind=6.7, rain=0.0, area=0.0, month_num=2.0)"
      ]
     },
     "execution_count": 29,
     "metadata": {},
     "output_type": "execute_result"
    }
   ],
   "source": [
    "#\n",
    "# new_df = new_df.drop('month')\n",
    "new_df.head()"
   ]
  },
  {
   "cell_type": "markdown",
   "metadata": {},
   "source": [
    "As you can see, we have created a new column called \"month_num\" that represents the month by a number. Now that we have performed this step, we can use Spark's version of OneHotEncoder. Let's make sure we have an accurate representation of the months."
   ]
  },
  {
   "cell_type": "code",
   "execution_count": 30,
   "metadata": {},
   "outputs": [
    {
     "data": {
      "text/plain": [
       "[Row(month_num=8.0),\n",
       " Row(month_num=0.0),\n",
       " Row(month_num=7.0),\n",
       " Row(month_num=1.0),\n",
       " Row(month_num=4.0),\n",
       " Row(month_num=11.0),\n",
       " Row(month_num=3.0),\n",
       " Row(month_num=2.0),\n",
       " Row(month_num=10.0),\n",
       " Row(month_num=6.0),\n",
       " Row(month_num=5.0),\n",
       " Row(month_num=9.0)]"
      ]
     },
     "execution_count": 30,
     "metadata": {},
     "output_type": "execute_result"
    }
   ],
   "source": [
    "new_df.select('month_num').distinct().collect()"
   ]
  },
  {
   "cell_type": "code",
   "execution_count": 31,
   "metadata": {},
   "outputs": [
    {
     "data": {
      "text/plain": [
       "Row(X=7, Y=5, month='mar', FFMC=86.2, DMC=26.2, DC=94.3, ISI=5.1, temp=8.2, RH=51, wind=6.7, rain=0.0, area=0.0, month_num=2.0, month_vec=SparseVector(11, {2: 1.0}))"
      ]
     },
     "execution_count": 31,
     "metadata": {},
     "output_type": "execute_result"
    }
   ],
   "source": [
    "## fitting and transforming the OneHotEncoder\n",
    "ohe = feature.OneHotEncoderEstimator(inputCols=['month_num'],outputCols=['month_vec'],dropLast=True)\n",
    "one_hot_encoded = ohe.fit(new_df).transform(new_df)\n",
    "one_hot_encoded.head()"
   ]
  },
  {
   "cell_type": "markdown",
   "metadata": {},
   "source": [
    "Great, we now have a OneHotEncoded sparse vector in the month_vec column! Because spark is optimized for big data, sparse vectors are used rather than entirely new columns for dummy variables because it is more space efficient. You can see in this first row of the data frame:  \n",
    "`month_vec=SparseVector(11, {2: 1.0})` this indicates that we have a sparse vector of size 11 (because of the parameter `dropLast = True` in OneHotEncoderEstimator) and this particular datapoint is the 2nd index of our month labels (march, based off the labels in the `model` StringEstimator transformer)  \n",
    "\n",
    "The final requirement for all machine learning models in pyspark is to put all of the features of your model into one Sparse Vector. This is once again for efficiency sake. Here, we are doing that with the `VectorAssembler` estimator."
   ]
  },
  {
   "cell_type": "code",
   "execution_count": 32,
   "metadata": {},
   "outputs": [],
   "source": [
    "features = ['X',\n",
    " 'Y',\n",
    " 'FFMC',\n",
    " 'DMC',\n",
    " 'DC',\n",
    " 'ISI',\n",
    " 'temp',\n",
    " 'RH',\n",
    " 'wind',\n",
    " 'rain',\n",
    " 'month_vec']\n",
    "\n",
    "target = 'area'\n",
    "\n",
    "vector = VectorAssembler(inputCols=features,outputCol='features')\n",
    "vectorized_df = vector.transform(one_hot_encoded)"
   ]
  },
  {
   "cell_type": "code",
   "execution_count": 33,
   "metadata": {},
   "outputs": [
    {
     "data": {
      "text/plain": [
       "Row(X=7, Y=5, month='mar', FFMC=86.2, DMC=26.2, DC=94.3, ISI=5.1, temp=8.2, RH=51, wind=6.7, rain=0.0, area=0.0, month_num=2.0, month_vec=SparseVector(11, {2: 1.0}), features=SparseVector(21, {0: 7.0, 1: 5.0, 2: 86.2, 3: 26.2, 4: 94.3, 5: 5.1, 6: 8.2, 7: 51.0, 8: 6.7, 12: 1.0}))"
      ]
     },
     "execution_count": 33,
     "metadata": {},
     "output_type": "execute_result"
    }
   ],
   "source": [
    "vectorized_df.head()"
   ]
  },
  {
   "cell_type": "markdown",
   "metadata": {},
   "source": [
    "Great! We now have our data in a format that seems acceptable for the last step. Now it's time for us to actually fit our model to data! Let's try and fit a Random Forest Regression model our data. Although there are still a bunch of other features in the DataFrame, it doesn't matter for the machine learning model API. All that needs to be specified are the names of the features column and the label column. Let's fit use Random Forest Regression to fit the model here."
   ]
  },
  {
   "cell_type": "code",
   "execution_count": 34,
   "metadata": {},
   "outputs": [],
   "source": [
    "## instantiating and fitting the model\n",
    "rf_model = RandomForestRegressor(featuresCol='features',labelCol='area',predictionCol=\"prediction\").fit(vectorized_df)"
   ]
  },
  {
   "cell_type": "code",
   "execution_count": 35,
   "metadata": {},
   "outputs": [
    {
     "data": {
      "text/plain": [
       "SparseVector(21, {0: 0.0918, 1: 0.0771, 2: 0.1144, 3: 0.0824, 4: 0.1014, 5: 0.0618, 6: 0.1024, 7: 0.1545, 8: 0.1288, 9: 0.0, 10: 0.0066, 11: 0.0551, 12: 0.0001, 13: 0.0229, 14: 0.0, 15: 0.0004, 16: 0.0002, 17: 0.0001, 18: 0.0, 20: 0.0})"
      ]
     },
     "execution_count": 35,
     "metadata": {},
     "output_type": "execute_result"
    }
   ],
   "source": [
    "rf_model.featureImportances"
   ]
  },
  {
   "cell_type": "code",
   "execution_count": 36,
   "metadata": {},
   "outputs": [
    {
     "data": {
      "text/plain": [
       "[Row(area=0.0, prediction=5.783977111094821),\n",
       " Row(area=0.0, prediction=10.18428050509698),\n",
       " Row(area=0.0, prediction=7.3365763327199955),\n",
       " Row(area=0.0, prediction=7.032807656533521),\n",
       " Row(area=0.0, prediction=8.88430748164194),\n",
       " Row(area=0.0, prediction=5.913177834289364),\n",
       " Row(area=0.0, prediction=5.450470204770024),\n",
       " Row(area=0.0, prediction=18.044289068884375),\n",
       " Row(area=0.0, prediction=6.896363448738311),\n",
       " Row(area=0.0, prediction=6.2901171622450445)]"
      ]
     },
     "execution_count": 36,
     "metadata": {},
     "output_type": "execute_result"
    }
   ],
   "source": [
    "## generating predictions\n",
    "predictions = rf_model.transform(vectorized_df).select(\"area\",\"prediction\")\n",
    "predictions.head(10)"
   ]
  },
  {
   "cell_type": "markdown",
   "metadata": {},
   "source": [
    "Now we can evaluate how well the model performed using `RegressionEvaluator`."
   ]
  },
  {
   "cell_type": "code",
   "execution_count": 37,
   "metadata": {},
   "outputs": [],
   "source": [
    "from pyspark.ml.evaluation import RegressionEvaluator\n",
    "evaluator = RegressionEvaluator(predictionCol='prediction', labelCol='area')"
   ]
  },
  {
   "cell_type": "code",
   "execution_count": 38,
   "metadata": {},
   "outputs": [
    {
     "data": {
      "text/plain": [
       "0.7065695843225409"
      ]
     },
     "execution_count": 38,
     "metadata": {},
     "output_type": "execute_result"
    }
   ],
   "source": [
    "## evaluating r^2\n",
    "evaluator.evaluate(predictions,{evaluator.metricName:\"r2\"})"
   ]
  },
  {
   "cell_type": "code",
   "execution_count": 39,
   "metadata": {},
   "outputs": [
    {
     "data": {
      "text/plain": [
       "14.096655304015496"
      ]
     },
     "execution_count": 39,
     "metadata": {},
     "output_type": "execute_result"
    }
   ],
   "source": [
    "## evaluating mean absolute error\n",
    "evaluator.evaluate(predictions,{evaluator.metricName:\"mae\"})"
   ]
  },
  {
   "cell_type": "markdown",
   "metadata": {},
   "source": [
    "## Putting it all in a Pipeline\n",
    "\n",
    "We just performed a whole lot of transformations to our data. Let's take a look at all the estimators we used to create this model:\n",
    "\n",
    "* StringIndexer\n",
    "* OneHotEnconderEstimator\n",
    "* VectorAssembler\n",
    "* RandomForestRegressor\n",
    "\n",
    "Once we've fit our model in the Pipeline, we're then going to want to evaluate it to determine how well it performs. We can do this with:\n",
    "\n",
    "* RegressionEvaluator\n",
    "\n",
    "\n",
    "We can streamline all of these transformations to make it all much more efficient by chaining them together in a pipeline. The Pipeline object expects a list of the estimators prior set to the parameter `stages`."
   ]
  },
  {
   "cell_type": "code",
   "execution_count": 40,
   "metadata": {},
   "outputs": [],
   "source": [
    "# importing relevant libraries\n",
    "from pyspark.ml.tuning import ParamGridBuilder, TrainValidationSplit, CrossValidator\n",
    "from pyspark.ml import Pipeline"
   ]
  },
  {
   "cell_type": "code",
   "execution_count": 41,
   "metadata": {},
   "outputs": [],
   "source": [
    "## instantiating all necessary estimator objects\n",
    "\n",
    "string_indexer = StringIndexer(inputCol='month',outputCol='month_num',handleInvalid='keep')\n",
    "one_hot_encoder = OneHotEncoderEstimator(inputCols=['month_num'],outputCols=['month_vec'],dropLast=True)\n",
    "vector_assember = VectorAssembler(inputCols=features,outputCol='features')\n",
    "random_forest = RandomForestRegressor(featuresCol='features',labelCol='area')\n",
    "stages =  [string_indexer, one_hot_encoder, vector_assember,random_forest]\n",
    "\n",
    "# instantiating the pipeline with all them estimator objects\n",
    "pipeline = Pipeline(stages=stages)"
   ]
  },
  {
   "cell_type": "markdown",
   "metadata": {},
   "source": [
    "### Cross Validation\n",
    "You might have missed a critical step in the Random Forest Regression above; we did not cross validate or perform a train/test split! Now we're going to fix that by performing cross validation and also testing out multiple different combinations of parameters in pyspark's GridSearch equivalent. To begin with, we will create a parameter grid that contains the different parameters we want to use in our model."
   ]
  },
  {
   "cell_type": "code",
   "execution_count": 42,
   "metadata": {},
   "outputs": [],
   "source": [
    "# creating parameter grid\n",
    "\n",
    "params = ParamGridBuilder()\\\n",
    ".addGrid(random_forest.maxDepth, [5,10,15])\\\n",
    ".addGrid(random_forest.numTrees, [20,50,100])\\\n",
    ".build()"
   ]
  },
  {
   "cell_type": "markdown",
   "metadata": {},
   "source": [
    "Let's take a look at the params variable we just built."
   ]
  },
  {
   "cell_type": "code",
   "execution_count": 43,
   "metadata": {},
   "outputs": [
    {
     "name": "stdout",
     "output_type": "stream",
     "text": [
      "total combinations of parameters:  9\n"
     ]
    },
    {
     "data": {
      "text/plain": [
       "{Param(parent='RandomForestRegressor_1bd0ed025a8f', name='maxDepth', doc='Maximum depth of the tree. (>= 0) E.g., depth 0 means 1 leaf node; depth 1 means 1 internal node + 2 leaf nodes.'): 5,\n",
       " Param(parent='RandomForestRegressor_1bd0ed025a8f', name='numTrees', doc='Number of trees to train (>= 1).'): 20}"
      ]
     },
     "execution_count": 43,
     "metadata": {},
     "output_type": "execute_result"
    }
   ],
   "source": [
    "print('total combinations of parameters: ',len(params))\n",
    "\n",
    "params[0]"
   ]
  },
  {
   "cell_type": "markdown",
   "metadata": {},
   "source": [
    "Now it's time to combine all the steps we've created to work in a single line of code with the CrossValidator estimator."
   ]
  },
  {
   "cell_type": "code",
   "execution_count": 44,
   "metadata": {},
   "outputs": [],
   "source": [
    "## instantiating the evaluator by which we will measure our model's performance\n",
    "reg_evaluator = RegressionEvaluator(predictionCol='prediction', labelCol='area',metricName = 'mae')\n",
    "## instantiating crossvalidator estimator\n",
    "cv = CrossValidator(estimator=pipeline, estimatorParamMaps=params,evaluator=reg_evaluator,parallelism=4)"
   ]
  },
  {
   "cell_type": "code",
   "execution_count": 45,
   "metadata": {},
   "outputs": [],
   "source": [
    "## fitting crossvalidator\n",
    "cross_validated_model = cv.fit(fire_df)"
   ]
  },
  {
   "cell_type": "markdown",
   "metadata": {},
   "source": [
    "Now, let's see how well the model performed! Let's take a look at the average performance for each one of our 9 models. It looks like the optimal performance is an MAE around 23. Note that this is worse than our original model, but that's because our original model had substantial data leakage. We didn't do a train-test-split!"
   ]
  },
  {
   "cell_type": "code",
   "execution_count": 46,
   "metadata": {
    "scrolled": true
   },
   "outputs": [
    {
     "data": {
      "text/plain": [
       "[20.889211862809134,\n",
       " 20.63896262561091,\n",
       " 20.967457895651034,\n",
       " 21.40648484355912,\n",
       " 21.263839064990833,\n",
       " 21.61640851163399,\n",
       " 21.52942384671089,\n",
       " 21.352227928354054,\n",
       " 21.716005653747896]"
      ]
     },
     "execution_count": 46,
     "metadata": {},
     "output_type": "execute_result"
    }
   ],
   "source": [
    "cross_validated_model.avgMetrics"
   ]
  },
  {
   "cell_type": "markdown",
   "metadata": {},
   "source": [
    "Now, let's take a look at the optimal parameters of our best performing model. The cross_validated_model variable is now saved as the best performing model from the grid search just performed. Let's look to see how well the predictions performed. As you can see, this dataset has a large number of areas of \"0.0\" burned. Perhaps, it would be better to investigate this problem as a classification task."
   ]
  },
  {
   "cell_type": "code",
   "execution_count": 47,
   "metadata": {},
   "outputs": [
    {
     "name": "stdout",
     "output_type": "stream",
     "text": [
      "+------------------+-------+\n",
      "|        prediction|   area|\n",
      "+------------------+-------+\n",
      "| 6.976350669308937|    0.0|\n",
      "| 5.776026058964736|    0.0|\n",
      "| 5.456270494171218|    0.0|\n",
      "| 8.113165133258441|    0.0|\n",
      "|7.1510565659180285|    0.0|\n",
      "|15.043355561267212|    0.0|\n",
      "| 6.768438095311272|    0.0|\n",
      "| 7.806839132676958|    0.0|\n",
      "|11.366227489702462|    0.0|\n",
      "|  38.9680919948111|    0.0|\n",
      "| 7.091427927090121|    0.0|\n",
      "|  5.90238162402077|    0.0|\n",
      "| 7.220787254207681|    0.0|\n",
      "|11.417019609430621|    0.0|\n",
      "| 75.24693561617102|    0.0|\n",
      "| 9.460844739568499|    0.0|\n",
      "| 5.738170542439881|    0.0|\n",
      "| 8.459011939136435|    0.0|\n",
      "| 5.443160444905434|    0.0|\n",
      "| 5.115690686797124|    0.0|\n",
      "|13.854110695949707|    0.0|\n",
      "|4.7914780552568015|    0.0|\n",
      "| 6.679365773682358|    0.0|\n",
      "| 7.936255801322591|    0.0|\n",
      "| 7.724156095914367|    0.0|\n",
      "| 7.593556976534452|    0.0|\n",
      "| 9.959048906635285|    0.0|\n",
      "| 14.94250461297696|    0.0|\n",
      "|12.413670171512909|    0.0|\n",
      "|11.005910421313015|    0.0|\n",
      "| 6.952992280351835|    0.0|\n",
      "|  8.03885894662379|    0.0|\n",
      "| 7.148860418120275|    0.0|\n",
      "| 4.911691470489554|    0.0|\n",
      "| 5.108090560602523|    0.0|\n",
      "| 7.306570115621297|    0.0|\n",
      "|15.122182377430102|    0.0|\n",
      "| 6.173140482880788|    0.0|\n",
      "| 4.952112029853321|    0.0|\n",
      "| 4.269209804668672|    0.0|\n",
      "| 21.32325322160186|    0.0|\n",
      "| 4.901710089463655|    0.0|\n",
      "| 4.271422185284595|    0.0|\n",
      "| 7.802206105733003|    0.0|\n",
      "|5.9940399866590335|    0.0|\n",
      "| 61.78479306415947|    0.0|\n",
      "| 6.904080672754539|    0.0|\n",
      "| 6.628956914629296|    0.0|\n",
      "| 4.766720990895579|    0.0|\n",
      "|  5.93506395195173|    0.0|\n",
      "|12.163492806248113|    0.0|\n",
      "|4.9210058824743745|    0.0|\n",
      "|4.7061952961560225|    0.0|\n",
      "|4.7061952961560225|    0.0|\n",
      "| 5.018150185688064|    0.0|\n",
      "| 10.88925656650958|    0.0|\n",
      "| 6.221983214666114|    0.0|\n",
      "|  5.76656149497754|    0.0|\n",
      "|   6.4716267513514|    0.0|\n",
      "| 6.640008371592647|    0.0|\n",
      "|  4.61465067100132|    0.0|\n",
      "| 4.733503152567681|    0.0|\n",
      "| 5.857577372594178|    0.0|\n",
      "| 4.447802540359109|    0.0|\n",
      "| 6.696203263768364|    0.0|\n",
      "|7.9811184694140636|    0.0|\n",
      "|10.869034973287059|    0.0|\n",
      "|11.461788631204731|    0.0|\n",
      "| 11.80810351215711|    0.0|\n",
      "| 4.398730706305462|    0.0|\n",
      "| 5.578697391508455|    0.0|\n",
      "| 5.834011290836299|    0.0|\n",
      "| 4.717422605700244|    0.0|\n",
      "| 5.827625532159544|    0.0|\n",
      "| 7.796007297698362|    0.0|\n",
      "| 7.701030880935719|    0.0|\n",
      "| 6.484039655036025|    0.0|\n",
      "| 6.549262699388883|    0.0|\n",
      "|3.7386210390119783|    0.0|\n",
      "| 30.82677839218505|    0.0|\n",
      "| 8.740103543145015|    0.0|\n",
      "| 8.457025395327157|    0.0|\n",
      "| 5.637756395911164|    0.0|\n",
      "|11.500111964991063|    0.0|\n",
      "|  8.90211076059413|    0.0|\n",
      "|16.127115851756756|    0.0|\n",
      "| 29.91215059693317|    0.0|\n",
      "|  25.1138910214194|    0.0|\n",
      "|13.379273954520254|    0.0|\n",
      "| 5.060121223985844|    0.0|\n",
      "| 6.534737693621434|    0.0|\n",
      "| 7.507298629085264|    0.0|\n",
      "|16.195278473388104|    0.0|\n",
      "|17.585379739714533|    0.0|\n",
      "| 6.588777987419373|    0.0|\n",
      "| 6.127116560448937|    0.0|\n",
      "|5.6876762516891075|    0.0|\n",
      "| 4.871848023366758|    0.0|\n",
      "| 5.565595321471026|    0.0|\n",
      "|  6.92442547274911|    0.0|\n",
      "|  6.92442547274911|    0.0|\n",
      "|  5.72747650036707|    0.0|\n",
      "| 5.206111525554084|    0.0|\n",
      "|10.690795514450247|    0.0|\n",
      "| 6.639782986795068|    0.0|\n",
      "| 4.985442358511106|    0.0|\n",
      "| 4.855391337807076|    0.0|\n",
      "| 4.301087746318452|    0.0|\n",
      "|7.0900453283534866|    0.0|\n",
      "| 6.071591361239766|    0.0|\n",
      "| 5.501750702351567|    0.0|\n",
      "| 4.733272747517153|    0.0|\n",
      "| 5.359059044254841|    0.0|\n",
      "| 5.542189471257143|    0.0|\n",
      "|4.8237009209710235|    0.0|\n",
      "| 5.252046058345823|    0.0|\n",
      "|5.1417153740190535|    0.0|\n",
      "|   5.1980977650806|    0.0|\n",
      "|4.8516595423537145|    0.0|\n",
      "| 6.110068055312158|    0.0|\n",
      "| 5.420427438469028|    0.0|\n",
      "| 5.329017405814893|    0.0|\n",
      "|  9.93678087794611|    0.0|\n",
      "| 7.830612232899074|    0.0|\n",
      "| 5.410797168818633|    0.0|\n",
      "| 8.205277940165754|    0.0|\n",
      "| 4.764925704554089|    0.0|\n",
      "| 9.786129394438314|    0.0|\n",
      "|  7.14793017559021|    0.0|\n",
      "|11.596629519278023|    0.0|\n",
      "| 4.867869224529108|    0.0|\n",
      "| 4.065513598471242|    0.0|\n",
      "| 5.042223321308999|    0.0|\n",
      "| 5.462952920439513|    0.0|\n",
      "|3.9484350528785974|    0.0|\n",
      "| 5.199346471702598|    0.0|\n",
      "|7.1518597259397225|    0.0|\n",
      "| 7.382244124627464|    0.0|\n",
      "|16.331436736035926|   0.36|\n",
      "|15.053483612365296|   0.43|\n",
      "|10.004572467670782|   0.47|\n",
      "| 5.263016680287613|   0.55|\n",
      "| 16.01640591808924|   0.61|\n",
      "| 4.275661682853981|   0.71|\n",
      "| 4.606029240538911|   0.77|\n",
      "|  52.3379393422021|    0.9|\n",
      "| 5.533913931751181|   0.95|\n",
      "| 20.33153081446874|   0.96|\n",
      "| 4.226352092049645|   1.07|\n",
      "| 18.52085061228633|   1.12|\n",
      "|42.460007751114915|   1.19|\n",
      "|10.416918847492646|   1.36|\n",
      "|5.8801001743707415|   1.43|\n",
      "|5.4288076011738475|   1.46|\n",
      "| 27.58120841699081|   1.46|\n",
      "| 4.918365282114804|   1.56|\n",
      "|15.695625208388272|   1.61|\n",
      "|  4.16091401793697|   1.63|\n",
      "|4.5656939723906484|   1.64|\n",
      "| 9.959048906635285|   1.69|\n",
      "| 5.515608491958423|   1.75|\n",
      "|6.1330070312338805|    1.9|\n",
      "| 5.816168647355876|   1.94|\n",
      "|20.030203381668844|   1.95|\n",
      "| 7.277526792466278|   2.01|\n",
      "|  5.22446389591302|   2.14|\n",
      "| 4.611801504661824|   2.29|\n",
      "|  6.61594224890016|   2.51|\n",
      "|11.509059245798513|   2.53|\n",
      "| 9.888477433148534|   2.55|\n",
      "| 8.633559616615104|   2.57|\n",
      "| 7.646193816184057|   2.69|\n",
      "|  9.23017965837601|   2.74|\n",
      "|11.576870136473058|   3.07|\n",
      "| 9.880934829350794|    3.5|\n",
      "| 5.740007508443196|   4.53|\n",
      "|6.8979798614407795|   4.61|\n",
      "| 4.960465759729712|   4.69|\n",
      "| 6.469552534601008|   4.88|\n",
      "|15.356672846417517|   5.23|\n",
      "|11.173073979589002|   5.33|\n",
      "|10.428282313526504|   5.44|\n",
      "|  4.73520456853699|   6.38|\n",
      "|  8.77542673261311|   6.83|\n",
      "|10.613798206552174|   6.96|\n",
      "| 10.70659713583981|   7.04|\n",
      "|16.440028792423398|   7.19|\n",
      "|17.702678724365633|    7.3|\n",
      "| 4.947840157346639|    7.4|\n",
      "| 6.366678530142725|   8.24|\n",
      "| 6.526012015550002|   8.31|\n",
      "| 7.540631891144452|   8.68|\n",
      "|6.6008453516187435|   8.71|\n",
      "|42.133737702523625|   9.41|\n",
      "|6.6008453516187435|  10.01|\n",
      "| 5.777755004680563|  10.02|\n",
      "|6.8979798614407795|  10.93|\n",
      "|12.569550771616083|  11.06|\n",
      "| 9.204922058256457|  11.24|\n",
      "|11.231006788329564|  11.32|\n",
      "|13.597151307345328|  11.53|\n",
      "|5.5440634210495645|   12.1|\n",
      "| 7.130043078938229|  13.05|\n",
      "| 7.493531447678557|   13.7|\n",
      "| 5.795815933731132|  13.99|\n",
      "|  9.07900872856105|  14.57|\n",
      "| 8.967200437802733|  15.45|\n",
      "|11.559785318924341|   17.2|\n",
      "|10.318535276032758|  19.23|\n",
      "|  25.5293750532186|  23.41|\n",
      "| 6.290583329663597|  24.23|\n",
      "| 10.59795821441632|   26.0|\n",
      "| 5.833577297269418|  26.13|\n",
      "| 8.082449744526928|  27.35|\n",
      "| 6.173460811763646|  28.66|\n",
      "| 6.173460811763646|  28.66|\n",
      "|10.795149948230645|  29.48|\n",
      "|10.142316326674118|  30.32|\n",
      "| 15.94317101500015|  31.72|\n",
      "| 8.076832551561276|  31.86|\n",
      "|11.572480163066004|  32.07|\n",
      "|11.047352591430206|  35.88|\n",
      "| 6.249644621651994|  36.85|\n",
      "|24.752322205595238|  37.02|\n",
      "| 7.312596224867069|  37.71|\n",
      "|10.558909641108189|  48.55|\n",
      "|13.302988268074337|  49.37|\n",
      "|  17.2007209195508|   58.3|\n",
      "| 40.03892319419899|   64.1|\n",
      "|18.704642704230174|   71.3|\n",
      "| 33.74413259609694|  88.49|\n",
      "| 43.33489287821745|  95.18|\n",
      "|17.218441892149237| 103.39|\n",
      "|50.463081783773426| 105.66|\n",
      "| 124.5098852128761| 154.88|\n",
      "| 42.92918137315283| 196.48|\n",
      "| 69.39681245433036| 200.94|\n",
      "| 66.96577059888583| 212.88|\n",
      "| 659.3340542993298|1090.84|\n",
      "| 8.122771937295393|    0.0|\n",
      "| 6.353460142763559|    0.0|\n",
      "| 6.987846722003744|    0.0|\n",
      "| 5.763915512024747|  10.13|\n",
      "| 6.941698099450443|    0.0|\n",
      "| 6.859444637619918|   2.87|\n",
      "|21.798370283499395|   0.76|\n",
      "|21.354779392217864|   0.09|\n",
      "| 5.102945551148384|   0.75|\n",
      "| 8.647088100911013|    0.0|\n",
      "|5.6763492880695186|   2.47|\n",
      "| 5.588479640788218|   0.68|\n",
      "| 5.763853676300012|   0.24|\n",
      "| 5.131916677906725|   0.21|\n",
      "| 6.108773214591268|   1.52|\n",
      "|10.066032176525285|  10.34|\n",
      "|11.626303734654941|    0.0|\n",
      "| 9.724758788673471|   8.02|\n",
      "| 5.027923698765482|   0.68|\n",
      "|5.9721743095616375|    0.0|\n",
      "| 5.911025426218996|   1.38|\n",
      "| 5.422003121791352|   8.85|\n",
      "| 5.168582369344131|    3.3|\n",
      "|4.6675188898165265|   4.25|\n",
      "| 7.501782712309408|   1.56|\n",
      "| 6.629392847387999|   6.54|\n",
      "| 7.904575743027352|   0.79|\n",
      "| 6.091577838701354|   0.17|\n",
      "| 4.639258454077588|    0.0|\n",
      "| 5.276726806052509|    0.0|\n",
      "| 5.407981585714204|    4.4|\n",
      "|10.356916592201607|   0.52|\n",
      "| 8.117916217217797|   9.27|\n",
      "| 5.720295545946215|   3.09|\n",
      "| 8.236420838735762|   8.98|\n",
      "|11.483558485961177|  11.19|\n",
      "| 6.156498251537975|   5.38|\n",
      "| 9.794570089491817|  17.85|\n",
      "| 9.278744634946364|  10.73|\n",
      "| 9.794570089491817|  22.03|\n",
      "| 9.794570089491817|   9.77|\n",
      "| 6.210041646040492|   9.27|\n",
      "| 10.71679603703327|  24.77|\n",
      "| 5.623339544215301|    0.0|\n",
      "| 5.038261230379373|    1.1|\n",
      "| 6.189953387698238|  24.24|\n",
      "| 7.321658787836847|    0.0|\n",
      "| 12.47411745020493|    0.0|\n",
      "|   6.3313418767934|    0.0|\n",
      "|  5.77864157744192|    0.0|\n",
      "| 6.049157860485691|    0.0|\n",
      "| 5.327090770590696|    0.0|\n",
      "|11.176033382025391|    8.0|\n",
      "| 4.774334923804179|   2.64|\n",
      "| 51.99420936619163|  86.45|\n",
      "| 7.932036819398726|   6.57|\n",
      "| 8.001667566815833|    0.0|\n",
      "| 4.642503815788895|    0.9|\n",
      "| 6.309893250171472|    0.0|\n",
      "|12.563168019349423|    0.0|\n",
      "|4.9579705969733165|    0.0|\n",
      "+------------------+-------+\n",
      "only showing top 300 rows\n",
      "\n"
     ]
    }
   ],
   "source": [
    "predictions = cross_validated_model.transform(spark_df)\n",
    "predictions.select('prediction','area').show(300)"
   ]
  },
  {
   "cell_type": "markdown",
   "metadata": {},
   "source": [
    "Now let's go ahead and take a look at the feature importances of our Random Forest model. In order to do this, we need to unroll our pipeline to access the Random Forest Model. Let's start by first checking out the \"bestModel\" attribute of our cross_validated_model."
   ]
  },
  {
   "cell_type": "code",
   "execution_count": 48,
   "metadata": {
    "slideshow": {
     "slide_type": "slide"
    }
   },
   "outputs": [
    {
     "data": {
      "text/plain": [
       "pyspark.ml.pipeline.PipelineModel"
      ]
     },
     "execution_count": 48,
     "metadata": {},
     "output_type": "execute_result"
    }
   ],
   "source": [
    "type(cross_validated_model.bestModel)"
   ]
  },
  {
   "cell_type": "markdown",
   "metadata": {},
   "source": [
    "`ml` is treating the entire pipeline as the best performing model, so we need to go deeper into the pipeline to access the Random Forest model within it. Previously, we put the Random Forest Model as the final \"stage\" in the stages variable list. Let's look at the stages attribute of the bestModel."
   ]
  },
  {
   "cell_type": "code",
   "execution_count": 49,
   "metadata": {},
   "outputs": [
    {
     "data": {
      "text/plain": [
       "[StringIndexer_7d32981bd47d,\n",
       " OneHotEncoderEstimator_1d0cc7ebb38a,\n",
       " VectorAssembler_4725301eba96,\n",
       " RandomForestRegressionModel (uid=RandomForestRegressor_1bd0ed025a8f) with 50 trees]"
      ]
     },
     "execution_count": 49,
     "metadata": {},
     "output_type": "execute_result"
    }
   ],
   "source": [
    "cross_validated_model.bestModel.stages"
   ]
  },
  {
   "cell_type": "markdown",
   "metadata": {},
   "source": [
    "Perfect! There's the RandomForestRegressionModel, represented by the last item in the stages list. Now, we should be able to access all the attributes of the Random Forest Regressor."
   ]
  },
  {
   "cell_type": "code",
   "execution_count": 50,
   "metadata": {},
   "outputs": [],
   "source": [
    "optimal_rf_model = cross_validated_model.bestModel.stages[3]"
   ]
  },
  {
   "cell_type": "code",
   "execution_count": 51,
   "metadata": {},
   "outputs": [
    {
     "data": {
      "text/plain": [
       "SparseVector(22, {0: 0.0821, 1: 0.0557, 2: 0.1337, 3: 0.085, 4: 0.1581, 5: 0.1315, 6: 0.1165, 7: 0.0922, 8: 0.0937, 9: 0.0, 10: 0.0248, 11: 0.019, 12: 0.001, 13: 0.0042, 14: 0.0002, 15: 0.0009, 16: 0.0002, 17: 0.0001, 18: 0.0002, 20: 0.0008})"
      ]
     },
     "execution_count": 51,
     "metadata": {},
     "output_type": "execute_result"
    }
   ],
   "source": [
    "optimal_rf_model.featureImportances"
   ]
  },
  {
   "cell_type": "code",
   "execution_count": 52,
   "metadata": {},
   "outputs": [
    {
     "data": {
      "text/plain": [
       "50"
      ]
     },
     "execution_count": 52,
     "metadata": {},
     "output_type": "execute_result"
    }
   ],
   "source": [
    "optimal_rf_model.getNumTrees"
   ]
  },
  {
   "cell_type": "markdown",
   "metadata": {},
   "source": [
    "## Summary\n",
    "\n",
    "In this lesson, you have learned about pyspark's DataFrames, machine learning models, and pipelines. With the use of a pipeline, you can train a huge number of models simultaneously, saving you a substantial amount of time and effort. Up next, you will have a chance to build a pyspark machine learning pipeline of your own with a classification problem!"
   ]
  }
 ],
 "metadata": {
  "kernelspec": {
   "display_name": "Python 3",
   "language": "python",
   "name": "python3"
  },
  "language_info": {
   "codemirror_mode": {
    "name": "ipython",
    "version": 3
   },
   "file_extension": ".py",
   "mimetype": "text/x-python",
   "name": "python",
   "nbconvert_exporter": "python",
   "pygments_lexer": "ipython3",
   "version": "3.7.3"
  }
 },
 "nbformat": 4,
 "nbformat_minor": 2
}
